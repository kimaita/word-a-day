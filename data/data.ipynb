{
 "cells": [
  {
   "cell_type": "code",
   "execution_count": 1,
   "metadata": {},
   "outputs": [],
   "source": [
    "import polars as pl\n",
    "import nltk"
   ]
  },
  {
   "cell_type": "code",
   "execution_count": 2,
   "metadata": {},
   "outputs": [
    {
     "name": "stderr",
     "output_type": "stream",
     "text": [
      "[nltk_data] Downloading package stopwords to\n",
      "[nltk_data]     /home/kimaita/nltk_data...\n",
      "[nltk_data]   Package stopwords is already up-to-date!\n",
      "[nltk_data] Downloading package words to /home/kimaita/nltk_data...\n",
      "[nltk_data]   Package words is already up-to-date!\n"
     ]
    },
    {
     "data": {
      "text/plain": [
       "True"
      ]
     },
     "execution_count": 2,
     "metadata": {},
     "output_type": "execute_result"
    }
   ],
   "source": [
    "nltk.download(\"stopwords\")\n",
    "nltk.download(\"words\")\n"
   ]
  },
  {
   "cell_type": "code",
   "execution_count": 3,
   "metadata": {},
   "outputs": [],
   "source": [
    "from nltk.corpus import stopwords, words\n",
    "\n",
    "stops = set(stopwords.words(\"english\"))\n",
    "word_list = set(words.words(\"en\")).difference(stops)\n"
   ]
  },
  {
   "cell_type": "code",
   "execution_count": 4,
   "metadata": {},
   "outputs": [],
   "source": [
    "df_wikt = pl.scan_csv(\n",
    "    \"enwiktionary-latest-all-titles-in-ns0\",\n",
    "    new_columns=[\"title\"],\n",
    "    separator=\"\\n\",\n",
    ").filter(pl.col(\"title\").is_in(word_list))\n"
   ]
  },
  {
   "cell_type": "code",
   "execution_count": 5,
   "metadata": {},
   "outputs": [],
   "source": [
    "from wordfreq import get_frequency_dict\n",
    "\n",
    "eng_freq = get_frequency_dict(\"en\", wordlist=\"best\")\n"
   ]
  },
  {
   "cell_type": "code",
   "execution_count": 6,
   "metadata": {},
   "outputs": [],
   "source": [
    "df_freq = (\n",
    "    df_wikt.with_columns(\n",
    "        freq=pl.col(\"title\").str.to_lowercase().replace_strict(eng_freq, default=1e-09)\n",
    "    )\n",
    "    .sort(\"freq\", descending=True)\n",
    "    .collect()\n",
    ")\n"
   ]
  },
  {
   "cell_type": "code",
   "execution_count": 7,
   "metadata": {},
   "outputs": [
    {
     "data": {
      "text/html": [
       "<div><style>\n",
       ".dataframe > thead > tr,\n",
       ".dataframe > tbody > tr {\n",
       "  text-align: right;\n",
       "  white-space: pre-wrap;\n",
       "}\n",
       "</style>\n",
       "<small>shape: (9, 3)</small><table border=\"1\" class=\"dataframe\"><thead><tr><th>statistic</th><th>title</th><th>freq</th></tr><tr><td>str</td><td>str</td><td>f64</td></tr></thead><tbody><tr><td>&quot;count&quot;</td><td>&quot;185263&quot;</td><td>185263.0</td></tr><tr><td>&quot;null_count&quot;</td><td>&quot;0&quot;</td><td>0.0</td></tr><tr><td>&quot;mean&quot;</td><td>null</td><td>0.000002</td></tr><tr><td>&quot;std&quot;</td><td>null</td><td>0.000068</td></tr><tr><td>&quot;min&quot;</td><td>&quot;A&quot;</td><td>1.0000e-9</td></tr><tr><td>&quot;25%&quot;</td><td>null</td><td>1.0000e-9</td></tr><tr><td>&quot;50%&quot;</td><td>null</td><td>1.0000e-9</td></tr><tr><td>&quot;75%&quot;</td><td>null</td><td>4.2658e-8</td></tr><tr><td>&quot;max&quot;</td><td>&quot;zythum&quot;</td><td>0.022909</td></tr></tbody></table></div>"
      ],
      "text/plain": [
       "shape: (9, 3)\n",
       "┌────────────┬────────┬───────────┐\n",
       "│ statistic  ┆ title  ┆ freq      │\n",
       "│ ---        ┆ ---    ┆ ---       │\n",
       "│ str        ┆ str    ┆ f64       │\n",
       "╞════════════╪════════╪═══════════╡\n",
       "│ count      ┆ 185263 ┆ 185263.0  │\n",
       "│ null_count ┆ 0      ┆ 0.0       │\n",
       "│ mean       ┆ null   ┆ 0.000002  │\n",
       "│ std        ┆ null   ┆ 0.000068  │\n",
       "│ min        ┆ A      ┆ 1.0000e-9 │\n",
       "│ 25%        ┆ null   ┆ 1.0000e-9 │\n",
       "│ 50%        ┆ null   ┆ 1.0000e-9 │\n",
       "│ 75%        ┆ null   ┆ 4.2658e-8 │\n",
       "│ max        ┆ zythum ┆ 0.022909  │\n",
       "└────────────┴────────┴───────────┘"
      ]
     },
     "execution_count": 7,
     "metadata": {},
     "output_type": "execute_result"
    }
   ],
   "source": [
    "df_freq.describe()\n"
   ]
  },
  {
   "cell_type": "code",
   "execution_count": 343,
   "metadata": {},
   "outputs": [
    {
     "data": {
      "text/html": [
       "<div><style>\n",
       ".dataframe > thead > tr,\n",
       ".dataframe > tbody > tr {\n",
       "  text-align: right;\n",
       "  white-space: pre-wrap;\n",
       "}\n",
       "</style>\n",
       "<small>shape: (10, 2)</small><table border=\"1\" class=\"dataframe\"><thead><tr><th>title</th><th>freq</th></tr><tr><td>str</td><td>f64</td></tr></thead><tbody><tr><td>&quot;phaseal&quot;</td><td>1.0000e-9</td></tr><tr><td>&quot;picker&quot;</td><td>9.7724e-7</td></tr><tr><td>&quot;rollmop&quot;</td><td>1.0000e-9</td></tr><tr><td>&quot;prevailer&quot;</td><td>1.0000e-9</td></tr><tr><td>&quot;countermachination&quot;</td><td>1.0000e-9</td></tr><tr><td>&quot;untranslatable&quot;</td><td>7.5858e-8</td></tr><tr><td>&quot;coggly&quot;</td><td>1.0000e-9</td></tr><tr><td>&quot;thimblerig&quot;</td><td>1.0000e-9</td></tr><tr><td>&quot;Jimmy&quot;</td><td>0.000028</td></tr><tr><td>&quot;instroke&quot;</td><td>1.0000e-9</td></tr></tbody></table></div>"
      ],
      "text/plain": [
       "shape: (10, 2)\n",
       "┌────────────────────┬───────────┐\n",
       "│ title              ┆ freq      │\n",
       "│ ---                ┆ ---       │\n",
       "│ str                ┆ f64       │\n",
       "╞════════════════════╪═══════════╡\n",
       "│ phaseal            ┆ 1.0000e-9 │\n",
       "│ picker             ┆ 9.7724e-7 │\n",
       "│ rollmop            ┆ 1.0000e-9 │\n",
       "│ prevailer          ┆ 1.0000e-9 │\n",
       "│ countermachination ┆ 1.0000e-9 │\n",
       "│ untranslatable     ┆ 7.5858e-8 │\n",
       "│ coggly             ┆ 1.0000e-9 │\n",
       "│ thimblerig         ┆ 1.0000e-9 │\n",
       "│ Jimmy              ┆ 0.000028  │\n",
       "│ instroke           ┆ 1.0000e-9 │\n",
       "└────────────────────┴───────────┘"
      ]
     },
     "execution_count": 343,
     "metadata": {},
     "output_type": "execute_result"
    }
   ],
   "source": [
    "df_freq.sample(n=10)"
   ]
  },
  {
   "cell_type": "code",
   "execution_count": 9,
   "metadata": {},
   "outputs": [],
   "source": [
    "df_freq.sort(by='freq', descending=True).write_csv('word_freq.csv', float_precision=9)"
   ]
  }
 ],
 "metadata": {
  "kernelspec": {
   "display_name": ".venv",
   "language": "python",
   "name": "python3"
  },
  "language_info": {
   "codemirror_mode": {
    "name": "ipython",
    "version": 3
   },
   "file_extension": ".py",
   "mimetype": "text/x-python",
   "name": "python",
   "nbconvert_exporter": "python",
   "pygments_lexer": "ipython3",
   "version": "3.10.12"
  }
 },
 "nbformat": 4,
 "nbformat_minor": 2
}
